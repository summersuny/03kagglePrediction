{
 "cells": [
  {
   "cell_type": "markdown",
   "metadata": {},
   "source": [
    "# Kaggle: Zillow Prize"
   ]
  },
  {
   "cell_type": "code",
   "execution_count": 39,
   "metadata": {},
   "outputs": [],
   "source": [
    "import numpy as np\n",
    "import pandas as pd\n",
    "from sklearn.preprocessing import Imputer\n",
    "import missingno as msno\n",
    "import re\n",
    "from sklearn.base import TransformerMixin\n",
    "%matplotlib inline"
   ]
  },
  {
   "cell_type": "code",
   "execution_count": 40,
   "metadata": {
    "collapsed": true
   },
   "outputs": [],
   "source": [
    "class DataFrameImputer(TransformerMixin):\n",
    "\n",
    "    def __init__(self):\n",
    "        \"\"\"Impute missing values.\n",
    "\n",
    "        Columns of dtype object are imputed with the most frequent value \n",
    "        in column.\n",
    "\n",
    "        Columns of other types are imputed with mean of column.\n",
    "\n",
    "        \"\"\"\n",
    "    def fit(self, X, y=None):\n",
    "\n",
    "        self.fill = pd.Series([X[c].value_counts().index[0]\n",
    "            if X[c].dtype == np.dtype('O') else X[c].mean() for c in X],\n",
    "            index=X.columns)\n",
    "\n",
    "        return self\n",
    "\n",
    "    def transform(self, X, y=None):\n",
    "        return X.fillna(self.fill)"
   ]
  },
  {
   "cell_type": "markdown",
   "metadata": {},
   "source": [
    "## Importing datasets"
   ]
  },
  {
   "cell_type": "code",
   "execution_count": 229,
   "metadata": {},
   "outputs": [
    {
     "name": "stderr",
     "output_type": "stream",
     "text": [
      "/Applications/anaconda/lib/python3.6/site-packages/IPython/core/interactiveshell.py:2717: DtypeWarning: Columns (22,32,34,49,55) have mixed types. Specify dtype option on import or set low_memory=False.\n",
      "  interactivity=interactivity, compiler=compiler, result=result)\n"
     ]
    }
   ],
   "source": [
    "properties_path = 'https://s3.us-east-2.amazonaws.com/aws-emr-dedicated/data/zillow/properties_2016.csv'\n",
    "train_path = 'https://s3.us-east-2.amazonaws.com/aws-emr-dedicated/data/zillow/train_2016_v2.csv'\n",
    "\n",
    "properties = pd.read_csv(filepath_or_buffer=properties_path)\n",
    "train = pd.read_csv(filepath_or_buffer=train_path)"
   ]
  },
  {
   "cell_type": "code",
   "execution_count": 230,
   "metadata": {},
   "outputs": [],
   "source": [
    "properties.set_index('parcelid', inplace=True)\n",
    "properties['latitude'] = properties['latitude']/1e6\n",
    "properties['longitude'] = properties['longitude']/1e6"
   ]
  },
  {
   "cell_type": "code",
   "execution_count": 231,
   "metadata": {
    "collapsed": true
   },
   "outputs": [],
   "source": [
    "properties_in_train_origin = properties.loc[train['parcelid'].drop_duplicates()]"
   ]
  },
  {
   "cell_type": "code",
   "execution_count": 286,
   "metadata": {},
   "outputs": [
    {
     "name": "stdout",
     "output_type": "stream",
     "text": [
      "(2985217, 57)\n",
      "(90275, 3)\n",
      "(90150, 57)\n"
     ]
    }
   ],
   "source": [
    "properties_in_train = properties_in_train_origin.copy()\n",
    "include_properties=False\n",
    "tables = []\n",
    "if include_properties:\n",
    "    tables = [properties_in_train, properties]\n",
    "else:\n",
    "    tables = [properties_in_train]\n",
    "print(properties.shape)\n",
    "print(train.shape)\n",
    "print(properties_in_train.shape)"
   ]
  },
  {
   "cell_type": "markdown",
   "metadata": {},
   "source": [
    "## Visualization of missing values"
   ]
  },
  {
   "cell_type": "code",
   "execution_count": 285,
   "metadata": {},
   "outputs": [
    {
     "data": {
      "text/plain": [
       "NaN     69610\n",
       " 1.0    11997\n",
       " 2.0     8034\n",
       " 3.0      507\n",
       " 4.0        2\n",
       "Name: numberofstories, dtype: int64"
      ]
     },
     "execution_count": 285,
     "metadata": {},
     "output_type": "execute_result"
    }
   ],
   "source": [
    "properties_in_train['numberofstories'].value_counts(dropna=False)"
   ]
  },
  {
   "cell_type": "code",
   "execution_count": 284,
   "metadata": {},
   "outputs": [
    {
     "name": "stdout",
     "output_type": "stream",
     "text": [
      "(90150, 28)\n"
     ]
    },
    {
     "data": {
      "text/plain": [
       "hashottuborspa                  0.026212\n",
       "numberofstories                 0.227842\n",
       "airconditioningtypeid           0.318891\n",
       "garagetotalsqft                 0.331636\n",
       "regionidneighborhood            0.398846\n",
       "heatingorsystemtypeid           0.621242\n",
       "buildingqualitytypeid           0.635430\n",
       "propertyzoningdesc              0.645946\n",
       "lotsizesquarefeet               0.887565\n",
       "regionidcity                    0.980022\n",
       "yearbuilt                       0.991647\n",
       "calculatedfinishedsquarefeet    0.992701\n",
       "regionidzip                     0.999612\n",
       "taxamount                       0.999933\n",
       "propertycountylandusecode       0.999989\n",
       "taxvaluedollarcnt               0.999989\n",
       "taxdelinquencyflag              1.000000\n",
       "bathroomcnt                     1.000000\n",
       "unitcnt                         1.000000\n",
       "longitude                       1.000000\n",
       "latitude                        1.000000\n",
       "regionidcounty                  1.000000\n",
       "rawcensustractandblock          1.000000\n",
       "yardbuildingsqft                1.000000\n",
       "propertylandusetypeid           1.000000\n",
       "poolsizesum                     1.000000\n",
       "roomcnt                         1.000000\n",
       "pooltypeid                      1.000000\n",
       "dtype: float64"
      ]
     },
     "execution_count": 284,
     "metadata": {},
     "output_type": "execute_result"
    }
   ],
   "source": [
    "# missing percentage\n",
    "print(properties_in_train.shape)\n",
    "properties_in_train.count().sort_values() / properties_in_train.shape[0]"
   ]
  },
  {
   "cell_type": "code",
   "execution_count": 61,
   "metadata": {},
   "outputs": [
    {
     "data": {
      "image/png": "[encoded data removed]",
      "text/plain": [
       "<matplotlib.figure.Figure at 0x11bfa3320>"
      ]
     },
     "metadata": {},
     "output_type": "display_data"
    }
   ],
   "source": [
    "colnames = properties_in_train.count().sort_values().index\n",
    "msno.matrix(msno.nullity_sort(properties_in_train[colnames], sort='descending'), \n",
    "            labels=True)"
   ]
  },
  {
   "cell_type": "markdown",
   "metadata": {},
   "source": [
    "## Preprocessing data"
   ]
  },
  {
   "cell_type": "code",
   "execution_count": 296,
   "metadata": {},
   "outputs": [],
   "source": [
    "drop_cols = [\n",
    "    'fips', # fips is identical to regionidcounty\n",
    "    'censustractandblock', # identical to rawcensustractandblock\n",
    "#    'propertyzoningdesc',\n",
    "#    'rawcensustractandblock',\n",
    "#    'regionidcity',\n",
    "#    'regionidneighborhood',\n",
    "#    'regionidzip',\n",
    "    'assessmentyear', # same year\n",
    "    'taxdelinquencyyear', # represented by tax delinquency year\n",
    "#    'buildingclasstypeid',\n",
    "    'finishedsquarefeet13',\n",
    "    'basementsqft',\n",
    "#    'storytypeid',\n",
    "#    'yardbuildingsqft26',\n",
    "    'fireplaceflag',\n",
    "    'finishedsquarefeet6',\n",
    "    'finishedfloor1squarefeet',\n",
    "    'finishedsquarefeet50',\n",
    "    'finishedsquarefeet12',\n",
    "    'finishedsquarefeet15',\n",
    "    'calculatedbathnbr',\n",
    "    'fullbathcnt',\n",
    "    'calculatedbathnbr',\n",
    "    'threequarterbathnbr',\n",
    "    'yardbuildingsqft26',\n",
    "    'yardbuildingsqft17',\n",
    "    'landtaxvaluedollarcnt',\n",
    "    'structuretaxvaluedollarcnt',\n",
    "    'pooltypeid10',\n",
    "    'pooltypeid7',\n",
    "    'pooltypeid2',\n",
    "    'poolcnt',\n",
    "    'fireplacecnt',\n",
    "    'garagecarcnt',\n",
    "    'bedroomcnt',\n",
    "    'buildingclasstypeid',\n",
    "    'storytypeid',\n",
    "    'architecturalstyletypeid',\n",
    "    'typeconstructiontypeid',\n",
    "    'decktypeid'\n",
    "]\n",
    "\n",
    "string_categorical_cols = [\n",
    "    'hashottuborspa'\n",
    "    ,'propertycountylandusecode'\n",
    "    ,'taxdelinquencyflag'\n",
    "    ,'propertyzoningdesc'\n",
    "    \n",
    "]\n"
   ]
  },
  {
   "cell_type": "code",
   "execution_count": 288,
   "metadata": {
    "collapsed": true
   },
   "outputs": [],
   "source": [
    "for table in tables:\n",
    "    table['fullbathcnt'].fillna(0, inplace=True)\n",
    "    table['threequarterbathnbr'].fillna(0, inplace=True)\n",
    "    table['yardbuildingsqft17'].fillna(0, inplace=True)\n",
    "    table['yardbuildingsqft26'].fillna(0, inplace=True)\n",
    "    table['unitcnt'].fillna(0, inplace=True)\n",
    "    table['taxdelinquencyflag'].fillna('N', inplace=True)\n",
    "    table['poolcnt'].fillna(0, inplace=True)\n",
    "    table['fireplacecnt'].fillna(0, inplace=True)\n",
    "    table['garagecarcnt'].fillna(0, inplace=True)\n",
    "    table['bedroomcnt'].fillna(0, inplace=True)\n",
    "    table['pooltypeid10'].fillna(0, inplace=True)\n",
    "    table['pooltypeid7'].fillna(0, inplace=True)\n",
    "    table['pooltypeid2'].fillna(0, inplace=True)\n",
    "    table['poolsizesum'].fillna(0, inplace=True)\n",
    "    table['hashottuborspa'].fillna('False', inplace=True)\n",
    "    table['yearbuilt'].fillna(0, inplace=True)\n",
    "    \n",
    "    table['bathroomcnt'] = table['fullbathcnt']+table['threequarterbathnbr']*.5\n",
    "    table['yardbuildingsqft'] = table['yardbuildingsqft17']+table['yardbuildingsqft26']\n",
    "    table['roomcnt'] = table['poolcnt']*2 + \\\n",
    "    table['fireplacecnt']*.5 + \\\n",
    "    table['garagecarcnt']*1 + \\\n",
    "    table['bedroomcnt']*2\n",
    "    table['pooltypeid'] = table['pooltypeid10']*10 + \\\n",
    "    table['pooltypeid7']*7 + \\\n",
    "    table['pooltypeid2']*2\n",
    "\n"
   ]
  },
  {
   "cell_type": "code",
   "execution_count": 289,
   "metadata": {},
   "outputs": [
    {
     "name": "stdout",
     "output_type": "stream",
     "text": [
      "Dropping architecturalstyletypeid...\n",
      "Dropping basementsqft...\n",
      "Dropping bedroomcnt...\n",
      "Dropping buildingclasstypeid...\n",
      "Dropping calculatedbathnbr...\n",
      "Dropping decktypeid...\n",
      "Dropping finishedfloor1squarefeet...\n",
      "Dropping finishedsquarefeet12...\n",
      "Dropping finishedsquarefeet13...\n",
      "Dropping finishedsquarefeet15...\n",
      "Dropping finishedsquarefeet50...\n",
      "Dropping finishedsquarefeet6...\n",
      "Dropping fips...\n",
      "Dropping fireplacecnt...\n",
      "Dropping fullbathcnt...\n",
      "Dropping garagecarcnt...\n",
      "Dropping poolcnt...\n",
      "Dropping pooltypeid10...\n",
      "Dropping pooltypeid2...\n",
      "Dropping pooltypeid7...\n",
      "Dropping storytypeid...\n",
      "Dropping threequarterbathnbr...\n",
      "Dropping typeconstructiontypeid...\n",
      "Dropping yardbuildingsqft17...\n",
      "Dropping yardbuildingsqft26...\n",
      "Dropping fireplaceflag...\n",
      "Dropping structuretaxvaluedollarcnt...\n",
      "Dropping assessmentyear...\n",
      "Dropping landtaxvaluedollarcnt...\n",
      "Dropping taxdelinquencyyear...\n",
      "Dropping censustractandblock...\n",
      "done!\n"
     ]
    }
   ],
   "source": [
    "# Drop Columns\n",
    "for table in tables:\n",
    "    for col in properties_in_train.columns:\n",
    "    # drop columns\n",
    "        if col in drop_cols:\n",
    "            print('Dropping {}...'.format(col))\n",
    "            table.drop(col, axis=1, inplace=True)\n",
    "print('done!') "
   ]
  },
  {
   "cell_type": "code",
   "execution_count": 290,
   "metadata": {},
   "outputs": [
    {
     "name": "stdout",
     "output_type": "stream",
     "text": [
      "['hashottuborspa', 'propertycountylandusecode', 'fireplaceflag', 'airconditioningtypeid', 'architecturalstyletypeid', 'buildingclasstypeid', 'buildingqualitytypeid', 'decktypeid', 'heatingorsystemtypeid', 'propertylandusetypeid', 'storytypeid', 'typeconstructiontypeid']\n"
     ]
    }
   ],
   "source": [
    "# categorical columns\n",
    "numerical_categorical_cols = [x for x in properties_in_train.columns if re.search('id$', x)]\n",
    "print(categorical_cols)\n",
    "\n",
    "categorical_cols = string_categorical_cols + numerical_categorical_cols"
   ]
  },
  {
   "cell_type": "code",
   "execution_count": 212,
   "metadata": {},
   "outputs": [
    {
     "data": {
      "text/plain": [
       "1    89930\n",
       "0      220\n",
       "Name: fireplaceflag, dtype: int64"
      ]
     },
     "execution_count": 212,
     "metadata": {},
     "output_type": "execute_result"
    }
   ],
   "source": [
    "properties_in_train['fireplaceflag'].value_counts(dropna=False)"
   ]
  },
  {
   "cell_type": "code",
   "execution_count": 297,
   "metadata": {},
   "outputs": [
    {
     "name": "stdout",
     "output_type": "stream",
     "text": [
      "preprocessing hashottuborspa...\n",
      "preprocessing propertycountylandusecode...\n",
      "preprocessing taxdelinquencyflag...\n",
      "preprocessing propertyzoningdesc...\n",
      "done!\n"
     ]
    }
   ],
   "source": [
    "from sklearn import preprocessing\n",
    "\n",
    "for col_name in string_categorical_cols:\n",
    "    print('preprocessing {}...'.format(col_name))\n",
    "    # create a LabelEncoder instance\n",
    "    encoder = preprocessing.LabelEncoder()\n",
    "    # fit LabelEncoder\n",
    "    if include_properties:\n",
    "        encoder.fit(properties[col_name].astype(str))\n",
    "    else:\n",
    "        encoder.fit(properties_in_train[col_name].astype(str))\n",
    "    # transform training set & test set based on training set\n",
    "    properties_in_train[col_name] = encoder.transform(properties_in_train[col_name].astype(str))\n",
    "    if include_properties:\n",
    "        properties[col_name] = encoder.transform(properties[col_name].astype(str))\n",
    "print('done!') "
   ]
  },
  {
   "cell_type": "code",
   "execution_count": 292,
   "metadata": {
    "collapsed": true
   },
   "outputs": [],
   "source": [
    "def categoryFilter(fit_data, transform_data=[], cols=[], fillna=None):\n",
    "    for t_data in transform_data:\n",
    "        for col in cols:\n",
    "            levels = fit_data.loc[~fit_data[col].isnull(), col].unique()\n",
    "            t_data.loc[~t_data[col].isin(levels), col] = np.nan\n",
    "            t_data[col] = t_data[col]\n",
    "        if fillna is not None:\n",
    "            t_data = t_data.fillna(fillna)\n",
    "        yield t_data"
   ]
  },
  {
   "cell_type": "code",
   "execution_count": 293,
   "metadata": {},
   "outputs": [
    {
     "name": "stdout",
     "output_type": "stream",
     "text": [
      "preprocessing airconditioningtypeid...\n",
      "preprocessing bathroomcnt...\n",
      "preprocessing buildingqualitytypeid...\n",
      "preprocessing calculatedfinishedsquarefeet...\n",
      "preprocessing garagetotalsqft...\n",
      "preprocessing hashottuborspa...\n",
      "preprocessing heatingorsystemtypeid...\n",
      "preprocessing latitude...\n",
      "preprocessing longitude...\n",
      "preprocessing lotsizesquarefeet...\n",
      "preprocessing poolsizesum...\n",
      "preprocessing propertycountylandusecode...\n",
      "preprocessing propertylandusetypeid...\n",
      "preprocessing propertyzoningdesc...\n",
      "preprocessing rawcensustractandblock...\n",
      "preprocessing regionidcity...\n",
      "preprocessing regionidcounty...\n",
      "preprocessing regionidneighborhood...\n",
      "preprocessing regionidzip...\n",
      "preprocessing roomcnt...\n",
      "preprocessing unitcnt...\n",
      "preprocessing yearbuilt...\n",
      "preprocessing numberofstories...\n",
      "preprocessing taxvaluedollarcnt...\n",
      "preprocessing taxamount...\n",
      "preprocessing taxdelinquencyflag...\n",
      "preprocessing yardbuildingsqft...\n",
      "preprocessing pooltypeid...\n",
      "done!\n"
     ]
    }
   ],
   "source": [
    "for col in properties_in_train.columns:\n",
    "    print('preprocessing {}...'.format(col))\n",
    "    # fix categorical levels\n",
    "    if col in categorical_cols:\n",
    "        if include_properties:\n",
    "            properties_in_train, properties = categoryFilter(\n",
    "                fit_data=properties_in_train, \n",
    "                transform_data=[properties_in_train,properties], \n",
    "                cols=[col], \n",
    "                fillna=-1\n",
    "            )\n",
    "print('done!') \n",
    "#drop the column is the drop list\n",
    "#fix the discrepencies of levels in training and testing datasets"
   ]
  },
  {
   "cell_type": "code",
   "execution_count": 294,
   "metadata": {},
   "outputs": [],
   "source": [
    "# imp = DataFrameImputer()\n",
    "\n",
    "# imp.fit(properties_in_train)\n",
    "# properties_in_train = imp.transform(properties_in_train)\n",
    "# properties = imp.transform(properties)\n",
    "\n",
    "# impute na with -1 for numeric positive values\n",
    "properties_in_train.fillna(-1, inplace=True)\n",
    "if include_properties:\n",
    "    properties.fillna(-1, inplace=True)"
   ]
  },
  {
   "cell_type": "code",
   "execution_count": 298,
   "metadata": {},
   "outputs": [
    {
     "data": {
      "text/plain": [
       "airconditioningtypeid           float64\n",
       "bathroomcnt                     float64\n",
       "buildingqualitytypeid           float64\n",
       "calculatedfinishedsquarefeet    float64\n",
       "garagetotalsqft                 float64\n",
       "hashottuborspa                    int64\n",
       "heatingorsystemtypeid           float64\n",
       "latitude                        float64\n",
       "longitude                       float64\n",
       "lotsizesquarefeet               float64\n",
       "poolsizesum                     float64\n",
       "propertycountylandusecode         int64\n",
       "propertylandusetypeid           float64\n",
       "propertyzoningdesc                int64\n",
       "rawcensustractandblock          float64\n",
       "regionidcity                    float64\n",
       "regionidcounty                  float64\n",
       "regionidneighborhood            float64\n",
       "regionidzip                     float64\n",
       "roomcnt                         float64\n",
       "unitcnt                         float64\n",
       "yearbuilt                       float64\n",
       "numberofstories                 float64\n",
       "taxvaluedollarcnt               float64\n",
       "taxamount                       float64\n",
       "taxdelinquencyflag                int64\n",
       "yardbuildingsqft                float64\n",
       "pooltypeid                      float64\n",
       "dtype: object"
      ]
     },
     "execution_count": 298,
     "metadata": {},
     "output_type": "execute_result"
    }
   ],
   "source": [
    "properties_in_train.dtypes"
   ]
  },
  {
   "cell_type": "markdown",
   "metadata": {},
   "source": [
    "## Data Preparation"
   ]
  },
  {
   "cell_type": "code",
   "execution_count": 299,
   "metadata": {
    "collapsed": true
   },
   "outputs": [],
   "source": [
    "train_set = pd.merge(\n",
    "    properties_in_train.dropna(axis=1), \n",
    "    train, \n",
    "    left_index = True, \n",
    "    right_on='parcelid'\n",
    ")\n",
    "train_set['month'] = pd.to_datetime(train_set['transactiondate']).dt.month\n",
    "train_set = train_set.drop('parcelid', axis=1).drop('transactiondate', axis=1)"
   ]
  },
  {
   "cell_type": "code",
   "execution_count": 300,
   "metadata": {
    "collapsed": true
   },
   "outputs": [],
   "source": [
    "X = train_set.drop('logerror', axis=1)\n",
    "y = train_set['logerror']"
   ]
  },
  {
   "cell_type": "code",
   "execution_count": 301,
   "metadata": {
    "collapsed": true
   },
   "outputs": [],
   "source": [
    "from sklearn.model_selection import train_test_split\n",
    "X_train, X_test, y_train, y_test = train_test_split(X, y, \n",
    "                                                    test_size=0.3, \n",
    "                                                    random_state=0)"
   ]
  },
  {
   "cell_type": "markdown",
   "metadata": {},
   "source": [
    "## Cross Validation"
   ]
  },
  {
   "cell_type": "markdown",
   "metadata": {},
   "source": [
    "### [RandomForestRegressor](http://scikit-learn.org/stable/modules/generated/sklearn.ensemble.RandomForestRegressor.html)"
   ]
  },
  {
   "cell_type": "code",
   "execution_count": 302,
   "metadata": {},
   "outputs": [
    {
     "name": "stderr",
     "output_type": "stream",
     "text": [
      "[Parallel(n_jobs=-1)]: Done   5 out of   5 | elapsed:    3.1s finished\n",
      "[Parallel(n_jobs=4)]: Done   5 out of   5 | elapsed:    0.0s finished\n",
      "[Parallel(n_jobs=4)]: Done   5 out of   5 | elapsed:    0.1s finished\n",
      "[Parallel(n_jobs=-1)]: Done   5 out of   5 | elapsed:    3.4s finished\n",
      "[Parallel(n_jobs=4)]: Done   5 out of   5 | elapsed:    0.0s finished\n",
      "[Parallel(n_jobs=4)]: Done   5 out of   5 | elapsed:    0.1s finished\n",
      "[Parallel(n_jobs=-1)]: Done   5 out of   5 | elapsed:    3.2s finished\n",
      "[Parallel(n_jobs=4)]: Done   5 out of   5 | elapsed:    0.0s finished\n",
      "[Parallel(n_jobs=4)]: Done   5 out of   5 | elapsed:    0.1s finished\n",
      "[Parallel(n_jobs=-1)]: Done  10 out of  10 | elapsed:    5.0s finished\n",
      "[Parallel(n_jobs=4)]: Done  10 out of  10 | elapsed:    0.0s finished\n",
      "[Parallel(n_jobs=4)]: Done  10 out of  10 | elapsed:    0.1s finished\n",
      "[Parallel(n_jobs=-1)]: Done  10 out of  10 | elapsed:    5.8s finished\n",
      "[Parallel(n_jobs=4)]: Done  10 out of  10 | elapsed:    0.0s finished\n",
      "[Parallel(n_jobs=4)]: Done  10 out of  10 | elapsed:    0.1s finished\n",
      "[Parallel(n_jobs=-1)]: Done  10 out of  10 | elapsed:    5.0s finished\n",
      "[Parallel(n_jobs=4)]: Done  10 out of  10 | elapsed:    0.0s finished\n",
      "[Parallel(n_jobs=4)]: Done  10 out of  10 | elapsed:    0.1s finished\n",
      "[Parallel(n_jobs=-1)]: Done  20 out of  20 | elapsed:    9.9s finished\n",
      "[Parallel(n_jobs=4)]: Done  20 out of  20 | elapsed:    0.1s finished\n",
      "[Parallel(n_jobs=4)]: Done  20 out of  20 | elapsed:    0.2s finished\n",
      "[Parallel(n_jobs=-1)]: Done  20 out of  20 | elapsed:    9.8s finished\n",
      "[Parallel(n_jobs=4)]: Done  20 out of  20 | elapsed:    0.1s finished\n",
      "[Parallel(n_jobs=4)]: Done  20 out of  20 | elapsed:    0.2s finished\n",
      "[Parallel(n_jobs=-1)]: Done  20 out of  20 | elapsed:    9.5s finished\n",
      "[Parallel(n_jobs=4)]: Done  20 out of  20 | elapsed:    0.1s finished\n",
      "[Parallel(n_jobs=4)]: Done  20 out of  20 | elapsed:    0.2s finished\n",
      "[Parallel(n_jobs=-1)]: Done  20 out of  20 | elapsed:   15.2s finished\n"
     ]
    },
    {
     "data": {
      "text/plain": [
       "GridSearchCV(cv=3, error_score='raise',\n",
       "       estimator=RandomForestRegressor(bootstrap=True, criterion='mse', max_depth=None,\n",
       "           max_features='auto', max_leaf_nodes=None,\n",
       "           min_impurity_split=1e-07, min_samples_leaf=1,\n",
       "           min_samples_split=2, min_weight_fraction_leaf=0.0,\n",
       "           n_estimators=10, n_jobs=1, oob_score=False, random_state=None,\n",
       "           verbose=1, warm_start=False),\n",
       "       fit_params={}, iid=True, n_jobs=1,\n",
       "       param_grid={'n_estimators': [5, 10, 20], 'n_jobs': [-1], 'oob_score': [False]},\n",
       "       pre_dispatch='2*n_jobs', refit=True, return_train_score=True,\n",
       "       scoring='neg_mean_absolute_error', verbose=0)"
      ]
     },
     "execution_count": 302,
     "metadata": {},
     "output_type": "execute_result"
    }
   ],
   "source": [
    "from sklearn.ensemble import RandomForestRegressor\n",
    "from sklearn.model_selection import GridSearchCV\n",
    "\n",
    "parameters = {'n_estimators':[5,10,20],'n_jobs':[-1],'oob_score':[False]}\n",
    "\n",
    "rf_reg = RandomForestRegressor(verbose=1)\n",
    "rf_cv = GridSearchCV(rf_reg,\n",
    "                     param_grid=parameters,\n",
    "                     scoring='neg_mean_absolute_error',\n",
    "                     cv=3)  \n",
    "rf_cv.fit(X_train, y_train)"
   ]
  },
  {
   "cell_type": "code",
   "execution_count": 303,
   "metadata": {},
   "outputs": [
    {
     "name": "stdout",
     "output_type": "stream",
     "text": [
      "{'n_estimators': 20, 'n_jobs': -1, 'oob_score': False}\n"
     ]
    }
   ],
   "source": [
    "# best cv parameters\n",
    "print(rf_cv.best_params_)"
   ]
  },
  {
   "cell_type": "code",
   "execution_count": 304,
   "metadata": {
    "collapsed": true
   },
   "outputs": [],
   "source": [
    "def feature_importance(estimator, labels):\n",
    "    feature_imp = pd.DataFrame.from_dict({'feature':labels,\n",
    "                                          'importance':estimator.feature_importances_})\n",
    "    feature_imp.set_index('feature',\n",
    "                          inplace=True, \n",
    "                          drop=True)\n",
    "    feature_imp = feature_imp.sort_values('importance', ascending=False)\n",
    "    feature_imp.plot.bar()"
   ]
  },
  {
   "cell_type": "code",
   "execution_count": 223,
   "metadata": {},
   "outputs": [
    {
     "data": {
      "image/png": "[encoded data removed]",
      "text/plain": [
       "<matplotlib.figure.Figure at 0x10a871588>"
      ]
     },
     "metadata": {},
     "output_type": "display_data"
    }
   ],
   "source": [
    "feature_importance(rf_cv.best_estimator_, X_train.columns)"
   ]
  },
  {
   "cell_type": "code",
   "execution_count": 305,
   "metadata": {},
   "outputs": [
    {
     "name": "stderr",
     "output_type": "stream",
     "text": [
      "[Parallel(n_jobs=4)]: Done  20 out of  20 | elapsed:    0.2s finished\n"
     ]
    },
    {
     "data": {
      "text/plain": [
       "0.077428253006117595"
      ]
     },
     "execution_count": 305,
     "metadata": {},
     "output_type": "execute_result"
    }
   ],
   "source": [
    "from sklearn.metrics import mean_absolute_error\n",
    "\n",
    "mean_absolute_error(y_test, rf_cv.best_estimator_.predict(X_test))"
   ]
  },
  {
   "cell_type": "markdown",
   "metadata": {
    "collapsed": true
   },
   "source": [
    "#### GradientBoostingRegressor"
   ]
  },
  {
   "cell_type": "code",
   "execution_count": 306,
   "metadata": {},
   "outputs": [
    {
     "name": "stdout",
     "output_type": "stream",
     "text": [
      "      Iter       Train Loss   Remaining Time \n",
      "         1           0.0260            0.07s\n",
      "         2           0.0260            0.05s\n",
      "         3           0.0260            0.03s\n",
      "         4           0.0260            0.02s\n",
      "         5           0.0260            0.00s\n",
      "      Iter       Train Loss   Remaining Time \n",
      "         1           0.0254            0.08s\n",
      "         2           0.0254            0.06s\n",
      "         3           0.0254            0.04s\n",
      "         4           0.0254            0.02s\n",
      "         5           0.0254            0.00s\n",
      "      Iter       Train Loss   Remaining Time \n",
      "         1           0.0257            0.11s\n",
      "         2           0.0257            0.07s\n",
      "         3           0.0257            0.04s\n",
      "         4           0.0257            0.02s\n",
      "         5           0.0257            0.00s\n",
      "      Iter       Train Loss   Remaining Time \n",
      "         1           0.0260            0.19s\n",
      "         2           0.0260            0.15s\n",
      "         3           0.0260            0.13s\n",
      "         4           0.0260            0.11s\n",
      "         5           0.0260            0.09s\n",
      "         6           0.0260            0.07s\n",
      "         7           0.0260            0.06s\n",
      "         8           0.0260            0.04s\n",
      "         9           0.0260            0.02s\n",
      "        10           0.0260            0.00s\n",
      "      Iter       Train Loss   Remaining Time \n",
      "         1           0.0254            0.17s\n",
      "         2           0.0254            0.15s\n",
      "         3           0.0254            0.13s\n",
      "         4           0.0254            0.11s\n",
      "         5           0.0254            0.09s\n",
      "         6           0.0254            0.07s\n",
      "         7           0.0254            0.05s\n",
      "         8           0.0254            0.03s\n",
      "         9           0.0254            0.02s\n",
      "        10           0.0254            0.00s\n",
      "      Iter       Train Loss   Remaining Time \n",
      "         1           0.0257            0.20s\n",
      "         2           0.0257            0.18s\n",
      "         3           0.0257            0.14s\n",
      "         4           0.0257            0.11s\n",
      "         5           0.0257            0.09s\n",
      "         6           0.0257            0.07s\n",
      "         7           0.0257            0.05s\n",
      "         8           0.0257            0.04s\n",
      "         9           0.0257            0.02s\n",
      "        10           0.0257            0.00s\n",
      "      Iter       Train Loss   Remaining Time \n",
      "         1           0.0260            0.32s\n",
      "         2           0.0260            0.33s\n",
      "         3           0.0260            0.34s\n",
      "         4           0.0260            0.30s\n",
      "         5           0.0260            0.29s\n",
      "         6           0.0260            0.26s\n",
      "         7           0.0260            0.24s\n",
      "         8           0.0260            0.22s\n",
      "         9           0.0260            0.20s\n",
      "        10           0.0260            0.19s\n",
      "        20           0.0260            0.00s\n",
      "      Iter       Train Loss   Remaining Time \n",
      "         1           0.0254            0.47s\n",
      "         2           0.0254            0.36s\n",
      "         3           0.0254            0.36s\n",
      "         4           0.0254            0.34s\n",
      "         5           0.0254            0.31s\n",
      "         6           0.0254            0.28s\n",
      "         7           0.0254            0.25s\n",
      "         8           0.0254            0.23s\n",
      "         9           0.0254            0.21s\n",
      "        10           0.0254            0.18s\n",
      "        20           0.0254            0.00s\n",
      "      Iter       Train Loss   Remaining Time \n",
      "         1           0.0257            0.33s\n",
      "         2           0.0257            0.34s\n",
      "         3           0.0257            0.34s\n",
      "         4           0.0257            0.34s\n",
      "         5           0.0257            0.33s\n",
      "         6           0.0257            0.32s\n",
      "         7           0.0257            0.30s\n",
      "         8           0.0257            0.29s\n",
      "         9           0.0257            0.27s\n",
      "        10           0.0257            0.25s\n",
      "        20           0.0257            0.00s\n",
      "      Iter       Train Loss   Remaining Time \n",
      "         1           0.0260            0.31s\n",
      "         2           0.0260            0.22s\n",
      "         3           0.0260            0.14s\n",
      "         4           0.0260            0.07s\n",
      "         5           0.0260            0.00s\n",
      "      Iter       Train Loss   Remaining Time \n",
      "         1           0.0254            0.30s\n",
      "         2           0.0254            0.22s\n",
      "         3           0.0254            0.15s\n",
      "         4           0.0254            0.07s\n",
      "         5           0.0254            0.00s\n",
      "      Iter       Train Loss   Remaining Time \n",
      "         1           0.0257            0.28s\n",
      "         2           0.0257            0.20s\n",
      "         3           0.0257            0.13s\n",
      "         4           0.0257            0.07s\n",
      "         5           0.0257            0.00s\n",
      "      Iter       Train Loss   Remaining Time \n",
      "         1           0.0260            0.72s\n",
      "         2           0.0260            0.64s\n",
      "         3           0.0260            0.55s\n",
      "         4           0.0260            0.46s\n",
      "         5           0.0260            0.37s\n",
      "         6           0.0260            0.30s\n",
      "         7           0.0260            0.22s\n",
      "         8           0.0259            0.15s\n",
      "         9           0.0259            0.07s\n",
      "        10           0.0259            0.00s\n",
      "      Iter       Train Loss   Remaining Time \n",
      "         1           0.0254            0.61s\n",
      "         2           0.0254            0.54s\n",
      "         3           0.0254            0.48s\n",
      "         4           0.0254            0.42s\n",
      "         5           0.0254            0.35s\n",
      "         6           0.0254            0.28s\n",
      "         7           0.0253            0.21s\n",
      "         8           0.0253            0.14s\n",
      "         9           0.0253            0.07s\n",
      "        10           0.0253            0.00s\n",
      "      Iter       Train Loss   Remaining Time \n",
      "         1           0.0257            0.61s\n",
      "         2           0.0257            0.55s\n",
      "         3           0.0257            0.51s\n",
      "         4           0.0257            0.47s\n",
      "         5           0.0257            0.40s\n",
      "         6           0.0257            0.33s\n",
      "         7           0.0257            0.24s\n",
      "         8           0.0257            0.15s\n",
      "         9           0.0256            0.08s\n",
      "        10           0.0256            0.00s\n",
      "      Iter       Train Loss   Remaining Time \n",
      "         1           0.0260            2.03s\n",
      "         2           0.0260            1.58s\n",
      "         3           0.0260            1.39s\n",
      "         4           0.0260            1.26s\n",
      "         5           0.0260            1.14s\n",
      "         6           0.0260            1.01s\n",
      "         7           0.0260            0.94s\n",
      "         8           0.0259            0.86s\n",
      "         9           0.0259            0.77s\n",
      "        10           0.0259            0.69s\n",
      "        20           0.0259            0.00s\n",
      "      Iter       Train Loss   Remaining Time \n",
      "         1           0.0254            1.44s\n",
      "         2           0.0254            1.35s\n",
      "         3           0.0254            1.24s\n",
      "         4           0.0254            1.15s\n",
      "         5           0.0254            1.08s\n",
      "         6           0.0254            1.02s\n",
      "         7           0.0253            0.94s\n",
      "         8           0.0253            0.86s\n",
      "         9           0.0253            0.79s\n",
      "        10           0.0253            0.71s\n",
      "        20           0.0252            0.00s\n",
      "      Iter       Train Loss   Remaining Time \n",
      "         1           0.0257            1.72s\n",
      "         2           0.0257            1.48s\n",
      "         3           0.0257            1.32s\n",
      "         4           0.0257            1.25s\n",
      "         5           0.0257            1.17s\n",
      "         6           0.0257            1.07s\n",
      "         7           0.0257            1.00s\n",
      "         8           0.0257            0.94s\n",
      "         9           0.0256            0.84s\n",
      "        10           0.0256            0.76s\n",
      "        20           0.0256            0.00s\n",
      "      Iter       Train Loss   Remaining Time \n",
      "         1           0.0260            0.65s\n",
      "         2           0.0260            0.45s\n",
      "         3           0.0260            0.30s\n",
      "         4           0.0259            0.15s\n",
      "         5           0.0259            0.00s\n",
      "      Iter       Train Loss   Remaining Time \n",
      "         1           0.0254            0.59s\n",
      "         2           0.0254            0.44s\n"
     ]
    },
    {
     "name": "stdout",
     "output_type": "stream",
     "text": [
      "         3           0.0253            0.29s\n",
      "         4           0.0253            0.15s\n",
      "         5           0.0253            0.00s\n",
      "      Iter       Train Loss   Remaining Time \n",
      "         1           0.0257            0.90s\n",
      "         2           0.0257            0.58s\n",
      "         3           0.0257            0.40s\n",
      "         4           0.0256            0.20s\n",
      "         5           0.0256            0.00s\n",
      "      Iter       Train Loss   Remaining Time \n",
      "         1           0.0260            1.66s\n",
      "         2           0.0260            1.28s\n",
      "         3           0.0260            1.12s\n",
      "         4           0.0259            1.01s\n",
      "         5           0.0259            0.88s\n",
      "         6           0.0259            0.70s\n",
      "         7           0.0259            0.52s\n",
      "         8           0.0259            0.34s\n",
      "         9           0.0259            0.17s\n",
      "        10           0.0259            0.00s\n",
      "      Iter       Train Loss   Remaining Time \n",
      "         1           0.0254            1.31s\n",
      "         2           0.0254            1.20s\n",
      "         3           0.0253            1.04s\n",
      "         4           0.0253            0.89s\n",
      "         5           0.0253            0.74s\n",
      "         6           0.0253            0.59s\n",
      "         7           0.0253            0.44s\n",
      "         8           0.0252            0.29s\n",
      "         9           0.0252            0.14s\n",
      "        10           0.0252            0.00s\n",
      "      Iter       Train Loss   Remaining Time \n",
      "         1           0.0257            1.15s\n",
      "         2           0.0257            1.15s\n",
      "         3           0.0257            1.00s\n",
      "         4           0.0256            0.85s\n",
      "         5           0.0256            0.73s\n",
      "         6           0.0256            0.59s\n",
      "         7           0.0256            0.44s\n",
      "         8           0.0256            0.29s\n",
      "         9           0.0255            0.15s\n",
      "        10           0.0255            0.00s\n",
      "      Iter       Train Loss   Remaining Time \n",
      "         1           0.0260            2.73s\n",
      "         2           0.0260            2.95s\n",
      "         3           0.0260            2.73s\n",
      "         4           0.0259            2.62s\n",
      "         5           0.0259            2.43s\n",
      "         6           0.0259            2.24s\n",
      "         7           0.0259            2.06s\n",
      "         8           0.0259            1.89s\n",
      "         9           0.0259            1.73s\n",
      "        10           0.0259            1.57s\n",
      "        20           0.0257            0.00s\n",
      "      Iter       Train Loss   Remaining Time \n",
      "         1           0.0254            2.61s\n",
      "         2           0.0254            2.51s\n",
      "         3           0.0253            2.33s\n",
      "         4           0.0253            2.22s\n",
      "         5           0.0253            2.12s\n",
      "         6           0.0253            1.97s\n",
      "         7           0.0253            1.86s\n",
      "         8           0.0252            1.72s\n",
      "         9           0.0252            1.58s\n",
      "        10           0.0252            1.44s\n",
      "        20           0.0250            0.00s\n",
      "      Iter       Train Loss   Remaining Time \n",
      "         1           0.0257            2.86s\n",
      "         2           0.0257            2.73s\n",
      "         3           0.0257            2.55s\n",
      "         4           0.0256            2.36s\n",
      "         5           0.0256            2.21s\n",
      "         6           0.0256            2.08s\n",
      "         7           0.0256            1.92s\n",
      "         8           0.0256            1.77s\n",
      "         9           0.0255            1.61s\n",
      "        10           0.0255            1.46s\n",
      "        20           0.0254            0.00s\n",
      "      Iter       Train Loss   Remaining Time \n",
      "         1           0.0260            0.10s\n",
      "         2           0.0260            0.07s\n",
      "         3           0.0260            0.05s\n",
      "         4           0.0260            0.02s\n",
      "         5           0.0259            0.00s\n",
      "      Iter       Train Loss   Remaining Time \n",
      "         1           0.0254            0.09s\n",
      "         2           0.0254            0.06s\n",
      "         3           0.0254            0.04s\n",
      "         4           0.0254            0.02s\n",
      "         5           0.0254            0.00s\n",
      "      Iter       Train Loss   Remaining Time \n",
      "         1           0.0257            0.09s\n",
      "         2           0.0257            0.06s\n",
      "         3           0.0257            0.04s\n",
      "         4           0.0257            0.02s\n",
      "         5           0.0256            0.00s\n",
      "      Iter       Train Loss   Remaining Time \n",
      "         1           0.0260            0.21s\n",
      "         2           0.0260            0.17s\n",
      "         3           0.0260            0.14s\n",
      "         4           0.0260            0.12s\n",
      "         5           0.0259            0.10s\n",
      "         6           0.0259            0.08s\n",
      "         7           0.0259            0.06s\n",
      "         8           0.0259            0.04s\n",
      "         9           0.0259            0.02s\n",
      "        10           0.0259            0.00s\n",
      "      Iter       Train Loss   Remaining Time \n",
      "         1           0.0254            0.21s\n",
      "         2           0.0254            0.19s\n",
      "         3           0.0254            0.18s\n",
      "         4           0.0254            0.16s\n",
      "         5           0.0254            0.13s\n",
      "         6           0.0254            0.10s\n",
      "         7           0.0254            0.08s\n",
      "         8           0.0254            0.05s\n",
      "         9           0.0254            0.03s\n",
      "        10           0.0254            0.00s\n",
      "      Iter       Train Loss   Remaining Time \n",
      "         1           0.0257            0.26s\n",
      "         2           0.0257            0.22s\n",
      "         3           0.0257            0.20s\n",
      "         4           0.0257            0.16s\n",
      "         5           0.0256            0.13s\n",
      "         6           0.0256            0.11s\n",
      "         7           0.0256            0.08s\n",
      "         8           0.0256            0.06s\n",
      "         9           0.0256            0.03s\n",
      "        10           0.0256            0.00s\n",
      "      Iter       Train Loss   Remaining Time \n",
      "         1           0.0260            0.55s\n",
      "         2           0.0260            0.57s\n",
      "         3           0.0260            0.53s\n",
      "         4           0.0260            0.50s\n",
      "         5           0.0259            0.52s\n",
      "         6           0.0259            0.48s\n",
      "         7           0.0259            0.43s\n",
      "         8           0.0259            0.40s\n",
      "         9           0.0259            0.35s\n",
      "        10           0.0259            0.31s\n",
      "        20           0.0259            0.00s\n",
      "      Iter       Train Loss   Remaining Time \n",
      "         1           0.0254            0.32s\n",
      "         2           0.0254            0.30s\n",
      "         3           0.0254            0.30s\n",
      "         4           0.0254            0.30s\n",
      "         5           0.0254            0.30s\n",
      "         6           0.0254            0.28s\n",
      "         7           0.0254            0.26s\n",
      "         8           0.0254            0.26s\n",
      "         9           0.0254            0.24s\n",
      "        10           0.0254            0.23s\n",
      "        20           0.0253            0.00s\n",
      "      Iter       Train Loss   Remaining Time \n",
      "         1           0.0257            0.39s\n",
      "         2           0.0257            0.40s\n",
      "         3           0.0257            0.41s\n",
      "         4           0.0257            0.41s\n",
      "         5           0.0256            0.38s\n",
      "         6           0.0256            0.36s\n",
      "         7           0.0256            0.32s\n",
      "         8           0.0256            0.29s\n",
      "         9           0.0256            0.27s\n",
      "        10           0.0256            0.24s\n",
      "        20           0.0256            0.00s\n",
      "      Iter       Train Loss   Remaining Time \n",
      "         1           0.0259            0.24s\n",
      "         2           0.0259            0.20s\n",
      "         3           0.0258            0.15s\n",
      "         4           0.0258            0.08s\n",
      "         5           0.0257            0.00s\n",
      "      Iter       Train Loss   Remaining Time \n",
      "         1           0.0253            0.30s\n",
      "         2           0.0252            0.22s\n",
      "         3           0.0252            0.14s\n",
      "         4           0.0251            0.07s\n",
      "         5           0.0251            0.00s\n",
      "      Iter       Train Loss   Remaining Time \n",
      "         1           0.0256            0.36s\n",
      "         2           0.0256            0.26s\n",
      "         3           0.0255            0.17s\n",
      "         4           0.0255            0.09s\n",
      "         5           0.0255            0.00s\n"
     ]
    },
    {
     "name": "stdout",
     "output_type": "stream",
     "text": [
      "      Iter       Train Loss   Remaining Time \n",
      "         1           0.0259            0.81s\n",
      "         2           0.0259            0.73s\n",
      "         3           0.0258            0.64s\n",
      "         4           0.0258            0.55s\n",
      "         5           0.0257            0.46s\n",
      "         6           0.0257            0.37s\n",
      "         7           0.0257            0.28s\n",
      "         8           0.0256            0.18s\n",
      "         9           0.0256            0.09s\n",
      "        10           0.0256            0.00s\n",
      "      Iter       Train Loss   Remaining Time \n",
      "         1           0.0253            0.63s\n",
      "         2           0.0252            0.58s\n",
      "         3           0.0252            0.53s\n",
      "         4           0.0251            0.45s\n",
      "         5           0.0251            0.38s\n",
      "         6           0.0250            0.31s\n",
      "         7           0.0250            0.23s\n",
      "         8           0.0249            0.16s\n",
      "         9           0.0249            0.08s\n",
      "        10           0.0248            0.00s\n",
      "      Iter       Train Loss   Remaining Time \n",
      "         1           0.0256            0.62s\n",
      "         2           0.0256            0.49s\n",
      "         3           0.0255            0.42s\n",
      "         4           0.0255            0.37s\n",
      "         5           0.0255            0.33s\n",
      "         6           0.0254            0.27s\n",
      "         7           0.0254            0.22s\n",
      "         8           0.0253            0.15s\n",
      "         9           0.0253            0.08s\n",
      "        10           0.0253            0.00s\n",
      "      Iter       Train Loss   Remaining Time \n",
      "         1           0.0259            1.18s\n",
      "         2           0.0259            1.17s\n",
      "         3           0.0258            1.05s\n",
      "         4           0.0258            0.98s\n",
      "         5           0.0257            0.95s\n",
      "         6           0.0257            0.89s\n",
      "         7           0.0257            0.84s\n",
      "         8           0.0256            0.79s\n",
      "         9           0.0256            0.73s\n",
      "        10           0.0256            0.67s\n",
      "        20           0.0253            0.00s\n",
      "      Iter       Train Loss   Remaining Time \n",
      "         1           0.0253            1.26s\n",
      "         2           0.0252            1.16s\n",
      "         3           0.0252            1.08s\n",
      "         4           0.0251            0.98s\n",
      "         5           0.0251            0.97s\n",
      "         6           0.0250            0.90s\n",
      "         7           0.0250            0.82s\n",
      "         8           0.0249            0.75s\n",
      "         9           0.0249            0.70s\n",
      "        10           0.0248            0.65s\n",
      "        20           0.0245            0.00s\n",
      "      Iter       Train Loss   Remaining Time \n",
      "         1           0.0256            1.50s\n",
      "         2           0.0256            1.26s\n",
      "         3           0.0255            1.13s\n",
      "         4           0.0255            1.04s\n",
      "         5           0.0255            1.05s\n",
      "         6           0.0254            1.04s\n",
      "         7           0.0254            1.03s\n",
      "         8           0.0253            0.99s\n",
      "         9           0.0253            0.92s\n",
      "        10           0.0253            0.87s\n",
      "        20           0.0250            0.00s\n",
      "      Iter       Train Loss   Remaining Time \n",
      "         1           0.0259            0.65s\n",
      "         2           0.0257            0.48s\n",
      "         3           0.0256            0.31s\n",
      "         4           0.0255            0.16s\n",
      "         5           0.0255            0.00s\n",
      "      Iter       Train Loss   Remaining Time \n",
      "         1           0.0252            0.57s\n",
      "         2           0.0250            0.41s\n",
      "         3           0.0249            0.28s\n",
      "         4           0.0248            0.14s\n",
      "         5           0.0247            0.00s\n",
      "      Iter       Train Loss   Remaining Time \n",
      "         1           0.0255            0.59s\n",
      "         2           0.0254            0.43s\n",
      "         3           0.0252            0.29s\n",
      "         4           0.0251            0.14s\n",
      "         5           0.0250            0.00s\n",
      "      Iter       Train Loss   Remaining Time \n",
      "         1           0.0259            1.18s\n",
      "         2           0.0257            1.11s\n",
      "         3           0.0256            1.06s\n",
      "         4           0.0255            0.91s\n",
      "         5           0.0255            0.75s\n",
      "         6           0.0254            0.59s\n",
      "         7           0.0253            0.45s\n",
      "         8           0.0252            0.30s\n",
      "         9           0.0251            0.15s\n",
      "        10           0.0251            0.00s\n",
      "      Iter       Train Loss   Remaining Time \n",
      "         1           0.0252            1.44s\n",
      "         2           0.0250            1.38s\n",
      "         3           0.0249            1.20s\n",
      "         4           0.0248            1.01s\n",
      "         5           0.0247            0.85s\n",
      "         6           0.0246            0.69s\n",
      "         7           0.0245            0.51s\n",
      "         8           0.0244            0.35s\n",
      "         9           0.0242            0.18s\n",
      "        10           0.0242            0.00s\n",
      "      Iter       Train Loss   Remaining Time \n",
      "         1           0.0255            1.82s\n",
      "         2           0.0254            1.47s\n",
      "         3           0.0252            1.18s\n",
      "         4           0.0251            0.99s\n",
      "         5           0.0250            0.81s\n",
      "         6           0.0250            0.66s\n",
      "         7           0.0249            0.51s\n",
      "         8           0.0248            0.34s\n",
      "         9           0.0247            0.17s\n",
      "        10           0.0247            0.00s\n",
      "      Iter       Train Loss   Remaining Time \n",
      "         1           0.0259            2.88s\n",
      "         2           0.0257            2.52s\n",
      "         3           0.0256            2.36s\n",
      "         4           0.0255            2.19s\n",
      "         5           0.0255            2.14s\n",
      "         6           0.0254            1.99s\n",
      "         7           0.0253            1.88s\n",
      "         8           0.0252            1.73s\n",
      "         9           0.0251            1.60s\n",
      "        10           0.0251            1.46s\n",
      "        20           0.0244            0.00s\n",
      "      Iter       Train Loss   Remaining Time \n",
      "         1           0.0252            2.62s\n",
      "         2           0.0250            2.37s\n",
      "         3           0.0249            2.33s\n",
      "         4           0.0248            2.18s\n",
      "         5           0.0247            2.07s\n",
      "         6           0.0246            1.90s\n",
      "         7           0.0245            1.74s\n",
      "         8           0.0244            1.61s\n",
      "         9           0.0242            1.52s\n",
      "        10           0.0242            1.37s\n",
      "        20           0.0231            0.00s\n",
      "      Iter       Train Loss   Remaining Time \n",
      "         1           0.0255            2.52s\n",
      "         2           0.0254            2.25s\n",
      "         3           0.0252            2.25s\n",
      "         4           0.0251            2.14s\n",
      "         5           0.0250            2.04s\n",
      "         6           0.0250            1.89s\n",
      "         7           0.0249            1.80s\n",
      "         8           0.0248            1.67s\n",
      "         9           0.0247            1.57s\n",
      "        10           0.0247            1.42s\n",
      "        20           0.0237            0.00s\n",
      "      Iter       Train Loss   Remaining Time \n",
      "         1           0.0256            1.06s\n",
      "         2           0.0254            0.79s\n",
      "         3           0.0253            0.52s\n",
      "         4           0.0251            0.26s\n",
      "         5           0.0250            0.00s\n"
     ]
    },
    {
     "data": {
      "text/plain": [
       "GridSearchCV(cv=3, error_score='raise',\n",
       "       estimator=GradientBoostingRegressor(alpha=0.9, criterion='friedman_mse', init=None,\n",
       "             learning_rate=0.1, loss='ls', max_depth=3, max_features=None,\n",
       "             max_leaf_nodes=None, min_impurity_split=1e-07,\n",
       "             min_samples_leaf=1, min_samples_split=2,\n",
       "             min_weight_fraction_leaf=0.0, n_estimators=100,\n",
       "             presort='auto', random_state=None, subsample=1.0, verbose=1,\n",
       "             warm_start=False),\n",
       "       fit_params={}, iid=True, n_jobs=1,\n",
       "       param_grid={'n_estimators': [5, 10, 20], 'learning_rate': [0.01, 0.1], 'max_depth': [1, 3, 5]},\n",
       "       pre_dispatch='2*n_jobs', refit=True, return_train_score=True,\n",
       "       scoring='neg_mean_absolute_error', verbose=0)"
      ]
     },
     "execution_count": 306,
     "metadata": {},
     "output_type": "execute_result"
    }
   ],
   "source": [
    "from sklearn.ensemble import GradientBoostingRegressor\n",
    "\n",
    "parameters = {'n_estimators':[5, 10, 20],\n",
    "              'learning_rate':[0.01, 0.1],\n",
    "              'max_depth':[1,3,5]\n",
    "             }\n",
    "\n",
    "gb_reg = GradientBoostingRegressor(verbose=1)\n",
    "\n",
    "gb_cv = GridSearchCV(gb_reg,\n",
    "                     param_grid=parameters,\n",
    "                     scoring='neg_mean_absolute_error',\n",
    "                     cv=3)  \n",
    "gb_cv.fit(X_train, y_train)"
   ]
  },
  {
   "cell_type": "code",
   "execution_count": 307,
   "metadata": {},
   "outputs": [
    {
     "name": "stdout",
     "output_type": "stream",
     "text": [
      "{'learning_rate': 0.1, 'max_depth': 5, 'n_estimators': 5}\n"
     ]
    }
   ],
   "source": [
    "print(gb_cv.best_params_)"
   ]
  },
  {
   "cell_type": "code",
   "execution_count": 308,
   "metadata": {},
   "outputs": [
    {
     "data": {
      "image/png": "[encoded data removed]",
      "text/plain": [
       "<matplotlib.figure.Figure at 0x3eb824c50>"
      ]
     },
     "metadata": {},
     "output_type": "display_data"
    }
   ],
   "source": [
    "feature_importance(gb_cv.best_estimator_, X_train.columns)"
   ]
  },
  {
   "cell_type": "code",
   "execution_count": 309,
   "metadata": {},
   "outputs": [
    {
     "data": {
      "text/plain": [
       "0.067493329273472222"
      ]
     },
     "execution_count": 309,
     "metadata": {},
     "output_type": "execute_result"
    }
   ],
   "source": [
    "mean_absolute_error(y_test, gb_cv.best_estimator_.predict(X_test))"
   ]
  },
  {
   "cell_type": "markdown",
   "metadata": {},
   "source": [
    "## Final model fit"
   ]
  },
  {
   "cell_type": "code",
   "execution_count": 37,
   "metadata": {
    "collapsed": true
   },
   "outputs": [],
   "source": [
    "gb_final = GradientBoostingRegressor(**gb_cv.best_params_)"
   ]
  },
  {
   "cell_type": "code",
   "execution_count": 38,
   "metadata": {},
   "outputs": [
    {
     "data": {
      "text/plain": [
       "GradientBoostingRegressor(alpha=0.9, criterion='friedman_mse', init=None,\n",
       "             learning_rate=0.1, loss='ls', max_depth=5, max_features=None,\n",
       "             max_leaf_nodes=None, min_impurity_split=1e-07,\n",
       "             min_samples_leaf=1, min_samples_split=2,\n",
       "             min_weight_fraction_leaf=0.0, n_estimators=5, presort='auto',\n",
       "             random_state=None, subsample=1.0, verbose=0, warm_start=False)"
      ]
     },
     "execution_count": 38,
     "metadata": {},
     "output_type": "execute_result"
    }
   ],
   "source": [
    "gb_final.fit(X, y)"
   ]
  },
  {
   "cell_type": "code",
   "execution_count": 39,
   "metadata": {},
   "outputs": [
    {
     "data": {
      "image/png": "[encoded data removed]",
      "text/plain": [
       "<matplotlib.figure.Figure at 0x1283e3828>"
      ]
     },
     "metadata": {},
     "output_type": "display_data"
    }
   ],
   "source": [
    "feature_importance(gb_final, X.columns)"
   ]
  },
  {
   "cell_type": "code",
   "execution_count": 67,
   "metadata": {
    "collapsed": true
   },
   "outputs": [],
   "source": [
    "test_set = properties\n",
    "test_set['month'] = 11\n",
    "\n",
    "test_pred = gb_final.predict(test_set)"
   ]
  },
  {
   "cell_type": "code",
   "execution_count": 68,
   "metadata": {},
   "outputs": [
    {
     "data": {
      "text/html": [
       "<div>\n",
       "<style>\n",
       "    .dataframe thead tr:only-child th {\n",
       "        text-align: right;\n",
       "    }\n",
       "\n",
       "    .dataframe thead th {\n",
       "        text-align: left;\n",
       "    }\n",
       "\n",
       "    .dataframe tbody tr th {\n",
       "        vertical-align: top;\n",
       "    }\n",
       "</style>\n",
       "<table border=\"1\" class=\"dataframe\">\n",
       "  <thead>\n",
       "    <tr style=\"text-align: right;\">\n",
       "      <th></th>\n",
       "      <th>predict</th>\n",
       "    </tr>\n",
       "    <tr>\n",
       "      <th>index</th>\n",
       "      <th></th>\n",
       "    </tr>\n",
       "  </thead>\n",
       "  <tbody>\n",
       "    <tr>\n",
       "      <th>10754147</th>\n",
       "      <td>0.877758</td>\n",
       "    </tr>\n",
       "    <tr>\n",
       "      <th>10759547</th>\n",
       "      <td>0.016404</td>\n",
       "    </tr>\n",
       "    <tr>\n",
       "      <th>10843547</th>\n",
       "      <td>0.004060</td>\n",
       "    </tr>\n",
       "    <tr>\n",
       "      <th>10859147</th>\n",
       "      <td>0.009801</td>\n",
       "    </tr>\n",
       "    <tr>\n",
       "      <th>10879947</th>\n",
       "      <td>0.009801</td>\n",
       "    </tr>\n",
       "    <tr>\n",
       "      <th>10898347</th>\n",
       "      <td>0.009801</td>\n",
       "    </tr>\n",
       "    <tr>\n",
       "      <th>10933547</th>\n",
       "      <td>0.009801</td>\n",
       "    </tr>\n",
       "    <tr>\n",
       "      <th>10940747</th>\n",
       "      <td>0.009801</td>\n",
       "    </tr>\n",
       "    <tr>\n",
       "      <th>10954547</th>\n",
       "      <td>0.877758</td>\n",
       "    </tr>\n",
       "    <tr>\n",
       "      <th>10976347</th>\n",
       "      <td>0.009801</td>\n",
       "    </tr>\n",
       "    <tr>\n",
       "      <th>11073947</th>\n",
       "      <td>0.009801</td>\n",
       "    </tr>\n",
       "    <tr>\n",
       "      <th>11114347</th>\n",
       "      <td>0.877758</td>\n",
       "    </tr>\n",
       "    <tr>\n",
       "      <th>11116947</th>\n",
       "      <td>0.000457</td>\n",
       "    </tr>\n",
       "    <tr>\n",
       "      <th>11142747</th>\n",
       "      <td>0.052351</td>\n",
       "    </tr>\n",
       "    <tr>\n",
       "      <th>11193347</th>\n",
       "      <td>-0.045969</td>\n",
       "    </tr>\n",
       "    <tr>\n",
       "      <th>11215747</th>\n",
       "      <td>-0.045969</td>\n",
       "    </tr>\n",
       "    <tr>\n",
       "      <th>11229347</th>\n",
       "      <td>-0.019714</td>\n",
       "    </tr>\n",
       "    <tr>\n",
       "      <th>11287347</th>\n",
       "      <td>0.008487</td>\n",
       "    </tr>\n",
       "    <tr>\n",
       "      <th>11288547</th>\n",
       "      <td>0.038594</td>\n",
       "    </tr>\n",
       "    <tr>\n",
       "      <th>11324547</th>\n",
       "      <td>0.020222</td>\n",
       "    </tr>\n",
       "    <tr>\n",
       "      <th>11391347</th>\n",
       "      <td>0.009801</td>\n",
       "    </tr>\n",
       "    <tr>\n",
       "      <th>11395747</th>\n",
       "      <td>0.028718</td>\n",
       "    </tr>\n",
       "    <tr>\n",
       "      <th>11404347</th>\n",
       "      <td>0.009801</td>\n",
       "    </tr>\n",
       "    <tr>\n",
       "      <th>11405747</th>\n",
       "      <td>0.009801</td>\n",
       "    </tr>\n",
       "    <tr>\n",
       "      <th>11417147</th>\n",
       "      <td>-0.038083</td>\n",
       "    </tr>\n",
       "    <tr>\n",
       "      <th>11457547</th>\n",
       "      <td>-0.019714</td>\n",
       "    </tr>\n",
       "    <tr>\n",
       "      <th>11488147</th>\n",
       "      <td>0.009801</td>\n",
       "    </tr>\n",
       "    <tr>\n",
       "      <th>11520747</th>\n",
       "      <td>0.009801</td>\n",
       "    </tr>\n",
       "    <tr>\n",
       "      <th>11524947</th>\n",
       "      <td>0.009801</td>\n",
       "    </tr>\n",
       "    <tr>\n",
       "      <th>11544747</th>\n",
       "      <td>0.009801</td>\n",
       "    </tr>\n",
       "    <tr>\n",
       "      <th>...</th>\n",
       "      <td>...</td>\n",
       "    </tr>\n",
       "    <tr>\n",
       "      <th>167636430</th>\n",
       "      <td>0.016717</td>\n",
       "    </tr>\n",
       "    <tr>\n",
       "      <th>167690630</th>\n",
       "      <td>0.016717</td>\n",
       "    </tr>\n",
       "    <tr>\n",
       "      <th>167636630</th>\n",
       "      <td>0.016717</td>\n",
       "    </tr>\n",
       "    <tr>\n",
       "      <th>10834030</th>\n",
       "      <td>0.016717</td>\n",
       "    </tr>\n",
       "    <tr>\n",
       "      <th>167637430</th>\n",
       "      <td>0.016717</td>\n",
       "    </tr>\n",
       "    <tr>\n",
       "      <th>167637630</th>\n",
       "      <td>0.016717</td>\n",
       "    </tr>\n",
       "    <tr>\n",
       "      <th>167637230</th>\n",
       "      <td>0.016717</td>\n",
       "    </tr>\n",
       "    <tr>\n",
       "      <th>11645030</th>\n",
       "      <td>0.016717</td>\n",
       "    </tr>\n",
       "    <tr>\n",
       "      <th>167689030</th>\n",
       "      <td>0.016717</td>\n",
       "    </tr>\n",
       "    <tr>\n",
       "      <th>167638630</th>\n",
       "      <td>0.016717</td>\n",
       "    </tr>\n",
       "    <tr>\n",
       "      <th>167638430</th>\n",
       "      <td>0.016717</td>\n",
       "    </tr>\n",
       "    <tr>\n",
       "      <th>14342030</th>\n",
       "      <td>0.016717</td>\n",
       "    </tr>\n",
       "    <tr>\n",
       "      <th>167638230</th>\n",
       "      <td>0.016717</td>\n",
       "    </tr>\n",
       "    <tr>\n",
       "      <th>167637830</th>\n",
       "      <td>0.016717</td>\n",
       "    </tr>\n",
       "    <tr>\n",
       "      <th>167639230</th>\n",
       "      <td>0.016717</td>\n",
       "    </tr>\n",
       "    <tr>\n",
       "      <th>14341030</th>\n",
       "      <td>0.016717</td>\n",
       "    </tr>\n",
       "    <tr>\n",
       "      <th>14341630</th>\n",
       "      <td>0.016717</td>\n",
       "    </tr>\n",
       "    <tr>\n",
       "      <th>14367630</th>\n",
       "      <td>0.016717</td>\n",
       "    </tr>\n",
       "    <tr>\n",
       "      <th>167638830</th>\n",
       "      <td>0.016717</td>\n",
       "    </tr>\n",
       "    <tr>\n",
       "      <th>12572230</th>\n",
       "      <td>0.016717</td>\n",
       "    </tr>\n",
       "    <tr>\n",
       "      <th>14460030</th>\n",
       "      <td>0.016717</td>\n",
       "    </tr>\n",
       "    <tr>\n",
       "      <th>14284830</th>\n",
       "      <td>0.016717</td>\n",
       "    </tr>\n",
       "    <tr>\n",
       "      <th>14285230</th>\n",
       "      <td>0.016717</td>\n",
       "    </tr>\n",
       "    <tr>\n",
       "      <th>14455630</th>\n",
       "      <td>0.016717</td>\n",
       "    </tr>\n",
       "    <tr>\n",
       "      <th>11117630</th>\n",
       "      <td>0.016717</td>\n",
       "    </tr>\n",
       "    <tr>\n",
       "      <th>168176230</th>\n",
       "      <td>0.016717</td>\n",
       "    </tr>\n",
       "    <tr>\n",
       "      <th>14273630</th>\n",
       "      <td>0.016717</td>\n",
       "    </tr>\n",
       "    <tr>\n",
       "      <th>168040630</th>\n",
       "      <td>0.016717</td>\n",
       "    </tr>\n",
       "    <tr>\n",
       "      <th>168040830</th>\n",
       "      <td>0.016717</td>\n",
       "    </tr>\n",
       "    <tr>\n",
       "      <th>168040430</th>\n",
       "      <td>0.016717</td>\n",
       "    </tr>\n",
       "  </tbody>\n",
       "</table>\n",
       "<p>2985217 rows × 1 columns</p>\n",
       "</div>"
      ],
      "text/plain": [
       "            predict\n",
       "index              \n",
       "10754147   0.877758\n",
       "10759547   0.016404\n",
       "10843547   0.004060\n",
       "10859147   0.009801\n",
       "10879947   0.009801\n",
       "10898347   0.009801\n",
       "10933547   0.009801\n",
       "10940747   0.009801\n",
       "10954547   0.877758\n",
       "10976347   0.009801\n",
       "11073947   0.009801\n",
       "11114347   0.877758\n",
       "11116947   0.000457\n",
       "11142747   0.052351\n",
       "11193347  -0.045969\n",
       "11215747  -0.045969\n",
       "11229347  -0.019714\n",
       "11287347   0.008487\n",
       "11288547   0.038594\n",
       "11324547   0.020222\n",
       "11391347   0.009801\n",
       "11395747   0.028718\n",
       "11404347   0.009801\n",
       "11405747   0.009801\n",
       "11417147  -0.038083\n",
       "11457547  -0.019714\n",
       "11488147   0.009801\n",
       "11520747   0.009801\n",
       "11524947   0.009801\n",
       "11544747   0.009801\n",
       "...             ...\n",
       "167636430  0.016717\n",
       "167690630  0.016717\n",
       "167636630  0.016717\n",
       "10834030   0.016717\n",
       "167637430  0.016717\n",
       "167637630  0.016717\n",
       "167637230  0.016717\n",
       "11645030   0.016717\n",
       "167689030  0.016717\n",
       "167638630  0.016717\n",
       "167638430  0.016717\n",
       "14342030   0.016717\n",
       "167638230  0.016717\n",
       "167637830  0.016717\n",
       "167639230  0.016717\n",
       "14341030   0.016717\n",
       "14341630   0.016717\n",
       "14367630   0.016717\n",
       "167638830  0.016717\n",
       "12572230   0.016717\n",
       "14460030   0.016717\n",
       "14284830   0.016717\n",
       "14285230   0.016717\n",
       "14455630   0.016717\n",
       "11117630   0.016717\n",
       "168176230  0.016717\n",
       "14273630   0.016717\n",
       "168040630  0.016717\n",
       "168040830  0.016717\n",
       "168040430  0.016717\n",
       "\n",
       "[2985217 rows x 1 columns]"
      ]
     },
     "execution_count": 68,
     "metadata": {},
     "output_type": "execute_result"
    }
   ],
   "source": [
    "prediction = pd.DataFrame.from_dict({'index':test_set.index,\n",
    "                                     'predict':test_pred})\n",
    "prediction.set_index('index')"
   ]
  },
  {
   "cell_type": "code",
   "execution_count": 70,
   "metadata": {
    "collapsed": true
   },
   "outputs": [],
   "source": [
    "prediction.columns=['ParcelId','201610']\n",
    "prediction['201611']=prediction['201610']\n",
    "prediction['201612']=prediction['201610']\n",
    "prediction['201710']=0\n",
    "prediction['201711']=0\n",
    "prediction['201712']=0"
   ]
  },
  {
   "cell_type": "code",
   "execution_count": 72,
   "metadata": {
    "collapsed": true
   },
   "outputs": [],
   "source": [
    "prediction=prediction.round(4)"
   ]
  },
  {
   "cell_type": "code",
   "execution_count": 75,
   "metadata": {
    "collapsed": true
   },
   "outputs": [],
   "source": [
    "from pandas import ExcelWriter\n",
    "\n",
    "# DF TO CSV\n",
    "prediction.to_csv('PythonExport_round.csv', sep=',',index=False)"
   ]
  },
  {
   "cell_type": "code",
   "execution_count": 74,
   "metadata": {},
   "outputs": [
    {
     "data": {
      "text/plain": [
       "(2985217, 7)"
      ]
     },
     "execution_count": 74,
     "metadata": {},
     "output_type": "execute_result"
    }
   ],
   "source": [
    "prediction.shape"
   ]
  }
 ],
 "metadata": {
  "kernelspec": {
   "display_name": "Python 3",
   "language": "python",
   "name": "python3"
  },
  "language_info": {
   "codemirror_mode": {
    "name": "ipython",
    "version": 3
   },
   "file_extension": ".py",
   "mimetype": "text/x-python",
   "name": "python",
   "nbconvert_exporter": "python",
   "pygments_lexer": "ipython3",
   "version": "3.6.1"
  }
 },
 "nbformat": 4,
 "nbformat_minor": 1
}
